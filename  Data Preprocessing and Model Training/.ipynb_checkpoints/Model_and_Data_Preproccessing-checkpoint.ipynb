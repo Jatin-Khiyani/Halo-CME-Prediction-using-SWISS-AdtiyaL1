{
 "cells": [
  {
   "cell_type": "code",
   "execution_count": 2,
   "id": "_DFHAUHH315a",
   "metadata": {
    "colab": {
     "base_uri": "https://localhost:8080/"
    },
    "id": "_DFHAUHH315a",
    "outputId": "dfa82937-995e-4c6b-8d64-ef158548a3f7"
   },
   "outputs": [
    {
     "name": "stdout",
     "output_type": "stream",
     "text": [
      "Drive already mounted at /content/drive; to attempt to forcibly remount, call drive.mount(\"/content/drive\", force_remount=True).\n"
     ]
    }
   ],
   "source": [
    "from google.colab import drive\n",
    "drive.mount('/content/drive')"
   ]
  },
  {
   "cell_type": "markdown",
   "id": "fd53e181-2edf-4b9c-a680-8c244f3d94c9",
   "metadata": {
    "id": "fd53e181-2edf-4b9c-a680-8c244f3d94c9"
   },
   "source": [
    "# Data Preproccessing"
   ]
  },
  {
   "cell_type": "markdown",
   "id": "6eeb8b7f-5c03-4f23-a1b9-1733ff7d78a5",
   "metadata": {
    "id": "6eeb8b7f-5c03-4f23-a1b9-1733ff7d78a5"
   },
   "source": [
    "We will try to handle fill values, many values in SWISS dataset has beem filled with -1e31.\n",
    "We will use rolling mean to fill in missing values and standard scale the values"
   ]
  },
  {
   "cell_type": "markdown",
   "id": "5183ed26-11e6-40d6-8cf5-b1257c3959a8",
   "metadata": {
    "id": "5183ed26-11e6-40d6-8cf5-b1257c3959a8"
   },
   "source": [
    "## Importing libraries and handling fill values"
   ]
  },
  {
   "cell_type": "code",
   "execution_count": 4,
   "id": "98433055-2660-4a03-bb76-69f40b4c18e0",
   "metadata": {
    "id": "98433055-2660-4a03-bb76-69f40b4c18e0"
   },
   "outputs": [],
   "source": [
    "import pandas as pd\n",
    "import numpy as np\n",
    "import h5py\n",
    "from sklearn.preprocessing import StandardScaler\n",
    "import gc\n",
    "\n",
    "# Path to your labeled HDF5\n",
    "LABELED_DATA_PATH = '/content/drive/MyDrive/adtiya l1/sw_level2_full.h5'\n",
    "\n",
    "# Fill value used in SWIS data\n",
    "FILL_VALUE = -1e31\n"
   ]
  },
  {
   "cell_type": "markdown",
   "id": "899026ec-9717-4ac3-a359-0c438ab2ebb7",
   "metadata": {
    "id": "899026ec-9717-4ac3-a359-0c438ab2ebb7"
   },
   "source": [
    "## Loading 1 and 2 Dimentional Data"
   ]
  },
  {
   "cell_type": "code",
   "execution_count": 7,
   "id": "4f87da35-e7fa-45bf-8d6b-1255d77fa2e2",
   "metadata": {
    "colab": {
     "base_uri": "https://localhost:8080/"
    },
    "id": "4f87da35-e7fa-45bf-8d6b-1255d77fa2e2",
    "outputId": "6df75c9f-94e2-49f7-ec92-b30a2720795c"
   },
   "outputs": [
    {
     "name": "stderr",
     "output_type": "stream",
     "text": [
      "Loading dates: 100%|██████████| 311/311 [03:57<00:00,  1.31it/s]\n"
     ]
    },
    {
     "name": "stdout",
     "output_type": "stream",
     "text": [
      "\n",
      "Loaded DataFrame: 5119116 rows × 53 columns\n"
     ]
    }
   ],
   "source": [
    "import warnings\n",
    "from tqdm import tqdm\n",
    "import pandas as pd\n",
    "import numpy as np\n",
    "import h5py\n",
    "\n",
    "# Suppress all warnings (including numpy runtime warnings)\n",
    "warnings.filterwarnings('ignore')\n",
    "\n",
    "def load_swis_h5(filepath):\n",
    "    \"\"\"\n",
    "    Load only 1D & 2D SWIS variables from HDF5, with a progress bar and\n",
    "    without any printed warnings. 2D arrays are summarized by mean/std.\n",
    "    \"\"\"\n",
    "    dfs = []\n",
    "    with h5py.File(filepath, 'r') as hf:\n",
    "        # Wrap the date-key loop in tqdm for a progress bar\n",
    "        for date_key in tqdm(hf.keys(), desc=\"Loading dates\"):\n",
    "            if date_key == 'stats':\n",
    "                continue\n",
    "            grp = hf[date_key]\n",
    "            if 'utc_time_ms' not in grp or 'label_code' not in grp:\n",
    "                continue\n",
    "\n",
    "            # Read time and label\n",
    "            t_ms  = grp['utc_time_ms'][:]\n",
    "            times = pd.to_datetime(t_ms, unit='ms', utc=True)\n",
    "            df    = pd.DataFrame({\n",
    "                'time':       times,\n",
    "                'label_code': grp['label_code'][:]\n",
    "            }).set_index('time')\n",
    "\n",
    "            # Instruments\n",
    "            for inst in ('BLK','TH1','TH2'):\n",
    "                if inst not in grp:\n",
    "                    continue\n",
    "                for var, ds in grp[inst].items():\n",
    "                    # Skip scalars\n",
    "                    if ds.ndim == 0:\n",
    "                        continue\n",
    "                    data = ds[:]\n",
    "                    # 1D → direct\n",
    "                    if ds.ndim == 1 and data.shape[0] == len(df):\n",
    "                        df[f'{inst}/{var}'] = data.astype(np.float32)\n",
    "                    # 2D → summarize\n",
    "                    elif ds.ndim == 2 and data.shape[0] == len(df):\n",
    "                        df[f'{inst}/{var}_mean'] = np.nanmean(data, axis=1).astype(np.float32)\n",
    "                        df[f'{inst}/{var}_std']  = np.nanstd(data, axis=1).astype(np.float32)\n",
    "                    # otherwise: skip silently\n",
    "\n",
    "            dfs.append(df)\n",
    "\n",
    "    if not dfs:\n",
    "        return pd.DataFrame()\n",
    "\n",
    "    full = pd.concat(dfs).sort_index()\n",
    "    full['is_halo_cme_event'] = full['label_code'] > 0\n",
    "    return full\n",
    "\n",
    "# Usage\n",
    "labeled_swis_df = load_swis_h5(LABELED_DATA_PATH)\n",
    "print(f\"\\nLoaded DataFrame: {labeled_swis_df.shape[0]} rows × {labeled_swis_df.shape[1]} columns\")\n"
   ]
  },
  {
   "cell_type": "markdown",
   "id": "7a319e6b-8cf5-41b7-9ed2-be595169e76a",
   "metadata": {
    "id": "7a319e6b-8cf5-41b7-9ed2-be595169e76a"
   },
   "source": [
    "## Replacing fill values with NaN"
   ]
  },
  {
   "cell_type": "code",
   "execution_count": 8,
   "id": "e830edfb-13c3-4786-94c7-b5271289c42d",
   "metadata": {
    "colab": {
     "base_uri": "https://localhost:8080/"
    },
    "id": "e830edfb-13c3-4786-94c7-b5271289c42d",
    "outputId": "5fd04d0b-9440-4717-9956-617ef74aaf46"
   },
   "outputs": [
    {
     "name": "stdout",
     "output_type": "stream",
     "text": [
      "NaNs after fill-value replacement: 1013686\n"
     ]
    }
   ],
   "source": [
    "num_cols = [c for c in labeled_swis_df if\n",
    "            pd.api.types.is_numeric_dtype(labeled_swis_df[c])\n",
    "            and c not in ('label_code','is_halo_cme_event')]\n",
    "\n",
    "labeled_swis_df[num_cols] = labeled_swis_df[num_cols]\\\n",
    "    .replace(FILL_VALUE, np.nan)\n",
    "\n",
    "print(\"NaNs after fill-value replacement:\", labeled_swis_df[num_cols].isna().sum().sum())\n"
   ]
  },
  {
   "cell_type": "markdown",
   "id": "1d12978a-aa5e-4532-b38c-918aa089481d",
   "metadata": {
    "id": "1d12978a-aa5e-4532-b38c-918aa089481d"
   },
   "source": [
    "## Feature Engineering by Rolling Statistics"
   ]
  },
  {
   "cell_type": "code",
   "execution_count": 9,
   "id": "16f70676-1981-4d33-a174-bc31f9deefe7",
   "metadata": {
    "colab": {
     "base_uri": "https://localhost:8080/"
    },
    "id": "16f70676-1981-4d33-a174-bc31f9deefe7",
    "outputId": "c223903c-444c-44f5-dc01-785ce5512f95"
   },
   "outputs": [
    {
     "name": "stdout",
     "output_type": "stream",
     "text": [
      "After feature eng’n, columns: ['dynamic_pressure', 'dynamic_pressure_mean_30min', 'dynamic_pressure_std_30min', 'dynamic_pressure_grad']\n"
     ]
    }
   ],
   "source": [
    "# 1) Dynamic pressure\n",
    "if all(x in labeled_swis_df for x in ('BLK/proton_density','BLK/proton_bulk_speed')):\n",
    "    labeled_swis_df['dynamic_pressure'] = (\n",
    "        1.67e-6\n",
    "        * labeled_swis_df['BLK/proton_density']\n",
    "        * labeled_swis_df['BLK/proton_bulk_speed']**2\n",
    "    )\n",
    "\n",
    "# 2) Rolling stats (30 min)\n",
    "ROLL = '30min'\n",
    "features = [\n",
    "    'BLK/proton_density','BLK/proton_bulk_speed','BLK/proton_thermal',\n",
    "    'BLK/alpha_density','BLK/alpha_bulk_speed','dynamic_pressure'\n",
    "]\n",
    "for col in features:\n",
    "    if col in labeled_swis_df:\n",
    "        r = labeled_swis_df[col].rolling(ROLL, min_periods=1)\n",
    "        labeled_swis_df[f'{col}_mean_{ROLL}'] = r.mean().astype('float32')\n",
    "        labeled_swis_df[f'{col}_std_{ROLL}']  = r.std().astype('float32')\n",
    "\n",
    "# 3) Gradients\n",
    "for col in features:\n",
    "    if col in labeled_swis_df:\n",
    "        labeled_swis_df[f'{col}_grad'] = labeled_swis_df[col]\\\n",
    "            .diff().astype('float32')\n",
    "\n",
    "print(\"After feature eng’n, columns:\", [c for c in labeled_swis_df.columns if 'dynamic_pressure' in c])\n"
   ]
  },
  {
   "cell_type": "markdown",
   "id": "4577031e-9b2c-4b8d-b809-1bf98a675ffe",
   "metadata": {
    "id": "4577031e-9b2c-4b8d-b809-1bf98a675ffe"
   },
   "source": [
    "## Missing-Value Interpolation"
   ]
  },
  {
   "cell_type": "code",
   "execution_count": 10,
   "id": "0b202559-dad3-4d32-84ce-1153ffedec4b",
   "metadata": {
    "colab": {
     "base_uri": "https://localhost:8080/"
    },
    "id": "0b202559-dad3-4d32-84ce-1153ffedec4b",
    "outputId": "fb70b2b6-f440-4d3c-92c5-034425b09c2d"
   },
   "outputs": [
    {
     "name": "stdout",
     "output_type": "stream",
     "text": [
      "Remaining NaNs: 0\n"
     ]
    }
   ],
   "source": [
    "# Linear interpolate inside gaps, then back-/forward-fill edges\n",
    "for col in num_cols + ['dynamic_pressure']:\n",
    "    if col in labeled_swis_df:\n",
    "        s = labeled_swis_df[col]\n",
    "        s = s.interpolate(method='linear', limit_direction='both')\n",
    "        s = s.fillna(method='bfill').fillna(method='ffill')\n",
    "        labeled_swis_df[col] = s\n",
    "\n",
    "print(\"Remaining NaNs:\", labeled_swis_df[num_cols].isna().sum().sum())\n"
   ]
  },
  {
   "cell_type": "markdown",
   "id": "c55ce583-2c42-4c4c-82df-2990c719f3a3",
   "metadata": {
    "id": "c55ce583-2c42-4c4c-82df-2990c719f3a3"
   },
   "source": [
    "## Removing infinite values and Cleaning"
   ]
  },
  {
   "cell_type": "code",
   "execution_count": 11,
   "id": "26274f7b-4233-48cb-acb1-0ed739d07975",
   "metadata": {
    "colab": {
     "base_uri": "https://localhost:8080/"
    },
    "id": "26274f7b-4233-48cb-acb1-0ed739d07975",
    "outputId": "9aad4068-ced4-4ed2-a845-0c53268c74dc"
   },
   "outputs": [
    {
     "name": "stdout",
     "output_type": "stream",
     "text": [
      "\n",
      "--- Robust Handling: Infinity and Persistent NaN Values ---\n",
      "Found 3978532 infinite values; replacing with NaN…\n",
      "All numeric features are now finite and clean!\n"
     ]
    }
   ],
   "source": [
    "# --- Robust Infinity & Persistent-NaN Handling ---\n",
    "print(\"\\n--- Robust Handling: Infinity and Persistent NaN Values ---\")\n",
    "\n",
    "# 1) Identify all numeric feature columns (exclude labels)\n",
    "num_feats = [\n",
    "    c for c in labeled_swis_df.select_dtypes(include=np.number).columns\n",
    "    if c not in ('label_code','is_halo_cme_event')\n",
    "]\n",
    "\n",
    "# 2) Replace infinities with NaN\n",
    "inf_counts = labeled_swis_df[num_feats].isin([np.inf, -np.inf]).sum()\n",
    "total_inf = int(inf_counts.sum())\n",
    "if total_inf > 0:\n",
    "    print(f\"Found {total_inf} infinite values; replacing with NaN…\")\n",
    "    labeled_swis_df[num_feats] = labeled_swis_df[num_feats] \\\n",
    "        .replace([np.inf, -np.inf], np.nan)\n",
    "else:\n",
    "    print(\"No infinities detected.\")\n",
    "\n",
    "# 3) Re-apply interpolation + edge filling\n",
    "for col in num_feats:\n",
    "    s = labeled_swis_df[col]\n",
    "    # linear interp in the middle\n",
    "    s = s.interpolate(method='linear', limit_direction='both', limit_area='inside')\n",
    "    # fill any remaining leading/trailing NaNs\n",
    "    s = s.fillna(method='bfill').fillna(method='ffill')\n",
    "    labeled_swis_df[col] = s\n",
    "\n",
    "# 4) Drop any columns still containing non-finite values\n",
    "bad = [c for c in num_feats if not np.isfinite(labeled_swis_df[c]).all()]\n",
    "if bad:\n",
    "    print(f\"Dropping columns with unfixable values: {bad}\")\n",
    "    labeled_swis_df.drop(columns=bad, inplace=True)\n",
    "else:\n",
    "    print(\"All numeric features are now finite and clean!\")\n"
   ]
  },
  {
   "cell_type": "markdown",
   "id": "574825ff-db07-4143-a39b-8bbaa446bcee",
   "metadata": {
    "id": "574825ff-db07-4143-a39b-8bbaa446bcee"
   },
   "source": [
    "## Scalling"
   ]
  },
  {
   "cell_type": "code",
   "execution_count": 12,
   "id": "0efec474-45be-4c0c-8267-3e31bc2c53d9",
   "metadata": {
    "colab": {
     "base_uri": "https://localhost:8080/"
    },
    "id": "0efec474-45be-4c0c-8267-3e31bc2c53d9",
    "outputId": "f55a977d-30d2-4d8f-8d07-d9ac9d7769ab"
   },
   "outputs": [
    {
     "name": "stdout",
     "output_type": "stream",
     "text": [
      "BLK/alpha_bulk_speed                     → mean: -0.0000, std: 1.0000\n",
      "BLK/alpha_density                        → mean: 0.0000, std: 1.0000\n",
      "BLK/alpha_thermal                        → mean: -0.0000, std: 1.0000\n",
      "BLK/bulk_a_uncer                         → mean: 0.0000, std: 1.0000\n",
      "BLK/bulk_p_uncer                         → mean: 0.0000, std: 1.0000\n"
     ]
    }
   ],
   "source": [
    "# --- Step 3: Feature Scaling ---\n",
    "\n",
    "from sklearn.preprocessing import StandardScaler\n",
    "\n",
    "# 1) Identify numeric features (exclude labels)\n",
    "features_to_scale = [\n",
    "    c for c in labeled_swis_df.select_dtypes(include=np.number).columns\n",
    "    if c not in ('label_code','is_halo_cme_event')\n",
    "]\n",
    "\n",
    "# 2) Drop any constant (zero‐variance) features\n",
    "constant_feats = [c for c in features_to_scale if labeled_swis_df[c].std() == 0]\n",
    "if constant_feats:\n",
    "    print(f\"Dropping constant features: {constant_feats}\")\n",
    "    labeled_swis_df.drop(columns=constant_feats, inplace=True)\n",
    "    features_to_scale = [c for c in features_to_scale if c not in constant_feats]\n",
    "\n",
    "# 3) Initialize and fit‐transform with StandardScaler\n",
    "scaler = StandardScaler()\n",
    "labeled_swis_df[features_to_scale] = scaler.fit_transform(labeled_swis_df[features_to_scale])\n",
    "\n",
    "# 4) Verification (mean ≈ 0, std ≈ 1)\n",
    "for col in features_to_scale[:5]:  # show first 5 for brevity\n",
    "    m = labeled_swis_df[col].mean()\n",
    "    s = labeled_swis_df[col].std()\n",
    "    print(f\"{col:40s} → mean: {m:.4f}, std: {s:.4f}\")\n"
   ]
  },
  {
   "cell_type": "markdown",
   "id": "13bd5d93-0efa-49a8-91ac-72f956934c1a",
   "metadata": {
    "id": "13bd5d93-0efa-49a8-91ac-72f956934c1a"
   },
   "source": [
    "## Displaying Scaled Values"
   ]
  },
  {
   "cell_type": "code",
   "execution_count": 13,
   "id": "80e8101c-610d-4488-bc65-4c0e2ed3ae0f",
   "metadata": {
    "colab": {
     "base_uri": "https://localhost:8080/"
    },
    "id": "80e8101c-610d-4488-bc65-4c0e2ed3ae0f",
    "outputId": "9d50d8b9-24a5-4330-a842-1105773ceccb"
   },
   "outputs": [
    {
     "name": "stdout",
     "output_type": "stream",
     "text": [
      "Features have been successfully scaled using StandardScaler.\n",
      "\n",
      "First 5 rows of DataFrame after Feature Scaling (showing examples):\n",
      "                                  BLK/proton_density  dynamic_pressure  is_halo_cme_event\n",
      "time                                                                                     \n",
      "2024-08-01 00:00:27.619000+00:00           -0.796637          0.006217               True\n",
      "2024-08-01 00:00:32.619000+00:00           -0.796637          0.006217               True\n",
      "2024-08-01 00:00:37.619000+00:00           -0.796637          0.006217               True\n",
      "2024-08-01 00:00:42.619000+00:00           -0.796637          0.006217               True\n",
      "2024-08-01 00:00:47.619000+00:00           -0.796637          0.006217               True\n",
      "\n",
      "Verification: Mean of 'BLK/proton_density' after scaling: 0.0000\n",
      "Verification: Standard Deviation of 'BLK/proton_density' after scaling: 1.0000\n"
     ]
    }
   ],
   "source": [
    "# --- Step 4: Display Scaled Feature Sample & Verification ---\n",
    "\n",
    "# 1) Define which columns to show\n",
    "display_cols = [\n",
    "    'BLK/proton_density',\n",
    "    'BLK/proton_density_rolling_mean_30min',\n",
    "    'BLK/proton_density_gradient',\n",
    "    'dynamic_pressure',\n",
    "    'dynamic_pressure_rolling_mean_30min',\n",
    "    'dynamic_pressure_gradient',\n",
    "    'is_halo_cme_event'\n",
    "]\n",
    "\n",
    "# 2) Filter to only the columns that actually exist\n",
    "display_cols = [c for c in display_cols if c in labeled_swis_df.columns]\n",
    "\n",
    "# 3) Print header\n",
    "print(\"Features have been successfully scaled using StandardScaler.\\n\")\n",
    "print(\"First 5 rows of DataFrame after Feature Scaling (showing examples):\")\n",
    "\n",
    "# 4) Show the slice\n",
    "print(labeled_swis_df[display_cols].head().to_string())\n",
    "\n",
    "# 5) Verification: mean & std of one key feature\n",
    "feat = 'BLK/proton_density'\n",
    "if feat in labeled_swis_df:\n",
    "    m = labeled_swis_df[feat].mean()\n",
    "    s = labeled_swis_df[feat].std()\n",
    "    print(f\"\\nVerification: Mean of '{feat}' after scaling: {m:.4f}\")\n",
    "    print(f\"Verification: Standard Deviation of '{feat}' after scaling: {s:.4f}\")\n"
   ]
  },
  {
   "cell_type": "code",
   "execution_count": 14,
   "id": "ee4728b6-4468-4466-8afb-b3fabf3a14f5",
   "metadata": {
    "colab": {
     "base_uri": "https://localhost:8080/"
    },
    "id": "ee4728b6-4468-4466-8afb-b3fabf3a14f5",
    "outputId": "b4c85234-3b22-4de5-b398-a651605c004f"
   },
   "outputs": [
    {
     "name": "stdout",
     "output_type": "stream",
     "text": [
      "Memory usage BEFORE downcast: 2772.96 MB\n",
      "Memory usage AFTER  downcast: 1406.01 MB\n",
      "Reduction: 1366.95 MB (49.3% decrease)\n"
     ]
    }
   ],
   "source": [
    "# --- Step X: Downcast to float32 & Print Memory Usage ---\n",
    "\n",
    "# 1) Identify numeric columns (exclude labels)\n",
    "numeric_cols = [\n",
    "    c for c in labeled_swis_df.select_dtypes(include=np.number).columns\n",
    "    if c not in ('label_code', 'is_halo_cme_event')\n",
    "]\n",
    "\n",
    "# 2) Measure memory before downcast\n",
    "mem_before = labeled_swis_df[numeric_cols].memory_usage(deep=True).sum() / (1024**2)\n",
    "\n",
    "# 3) Downcast each column to float32\n",
    "for col in numeric_cols:\n",
    "    labeled_swis_df[col] = labeled_swis_df[col].astype(np.float32)\n",
    "\n",
    "# 4) Measure memory after downcast\n",
    "mem_after = labeled_swis_df[numeric_cols].memory_usage(deep=True).sum() / (1024**2)\n",
    "\n",
    "# 5) Report\n",
    "print(f\"Memory usage BEFORE downcast: {mem_before:.2f} MB\")\n",
    "print(f\"Memory usage AFTER  downcast: {mem_after:.2f} MB\")\n",
    "print(f\"Reduction: {mem_before - mem_after:.2f} MB ({100*(mem_before-mem_after)/mem_before:.1f}% decrease)\")\n"
   ]
  },
  {
   "cell_type": "markdown",
   "id": "55261db0-5b9a-4274-8ef5-260e10c9b864",
   "metadata": {
    "id": "55261db0-5b9a-4274-8ef5-260e10c9b864"
   },
   "source": [
    "# Random Forest"
   ]
  },
  {
   "cell_type": "markdown",
   "id": "fbc0d4c0-000f-47c6-93ae-2753f0f9fc77",
   "metadata": {
    "id": "e87de672-d390-4395-aae3-ebdb56937443"
   },
   "source": [
    "# Data Splitting"
   ]
  },
  {
   "cell_type": "code",
   "execution_count": 15,
   "id": "882cd3fa-1483-4768-998c-6f66e6dc8553",
   "metadata": {
    "colab": {
     "base_uri": "https://localhost:8080/"
    },
    "id": "882cd3fa-1483-4768-998c-6f66e6dc8553",
    "outputId": "0b6fb825-2734-445e-f37f-4f0aff78dcc8"
   },
   "outputs": [
    {
     "name": "stdout",
     "output_type": "stream",
     "text": [
      "\n",
      "--- Step 4: Data Splitting for Time Series ---\n",
      "Number of features (X): 70\n",
      "Number of samples (total): 5119116\n",
      "Target (y) shape: (5119116,)\n",
      "\n",
      "Training set size: 4095292 samples\n",
      "Testing set size: 1023824 samples\n",
      "Train set period: 2024-08-01 00:00:27.619000+00:00 to 2025-04-22 06:19:29.406000+00:00\n",
      "Test set period: 2025-04-22 06:19:34.406000+00:00 to 2025-06-26 23:59:56.929000+00:00\n",
      "\n",
      "Data splitting complete.\n"
     ]
    }
   ],
   "source": [
    "import pandas as pd\n",
    "import numpy as np\n",
    "from sklearn.model_selection import train_test_split\n",
    "# No need for StandardScaler import here, as it was already applied.\n",
    "\n",
    "print(\"\\n--- Step 4: Data Splitting for Time Series ---\")\n",
    "\n",
    "# Separate features (X) and target (y)\n",
    "# Features will be all numerical columns that were scaled, excluding the label.\n",
    "# The target is 'is_halo_cme_event'.\n",
    "\n",
    "# Get all columns except 'label_code' (raw label) and 'is_halo_cme_event' (binary label)\n",
    "# and the original 'time' index if it became a regular column during some operation.\n",
    "feature_columns = labeled_swis_df.select_dtypes(include=np.number).columns.tolist()\n",
    "if 'label_code' in feature_columns:\n",
    "    feature_columns.remove('label_code')\n",
    "if 'is_halo_cme_event' in feature_columns:\n",
    "    feature_columns.remove('is_halo_cme_event')\n",
    "\n",
    "# Ensure the columns actually exist in the DataFrame after all previous dropping steps\n",
    "# (e.g., if dynamic_pressure was dropped, don't try to include it)\n",
    "feature_columns = [col for col in feature_columns if col in labeled_swis_df.columns]\n",
    "\n",
    "\n",
    "X = labeled_swis_df[feature_columns]\n",
    "y = labeled_swis_df['is_halo_cme_event']\n",
    "\n",
    "print(f\"Number of features (X): {X.shape[1]}\")\n",
    "print(f\"Number of samples (total): {X.shape[0]}\")\n",
    "print(f\"Target (y) shape: {y.shape}\")\n",
    "\n",
    "# Perform a chronological split\n",
    "# We'll use a standard 80% for training and 20% for testing.\n",
    "# For time series, this means taking the first 80% of rows for training\n",
    "# and the last 20% for testing.\n",
    "split_index = int(len(X) * 0.8)\n",
    "\n",
    "X_train = X.iloc[:split_index]\n",
    "X_test = X.iloc[split_index:]\n",
    "y_train = y.iloc[:split_index]\n",
    "y_test = y.iloc[split_index:]\n",
    "\n",
    "print(f\"\\nTraining set size: {len(X_train)} samples\")\n",
    "print(f\"Testing set size: {len(X_test)} samples\")\n",
    "print(f\"Train set period: {X_train.index.min()} to {X_train.index.max()}\")\n",
    "print(f\"Test set period: {X_test.index.min()} to {X_test.index.max()}\")\n",
    "\n",
    "print(\"\\nData splitting complete.\")"
   ]
  },
  {
   "cell_type": "markdown",
   "id": "290f4a7c-7e50-44d3-b699-b08a22c232e3",
   "metadata": {},
   "source": [
    "## Model Initialization "
   ]
  },
  {
   "cell_type": "code",
   "execution_count": null,
   "id": "d50cd4c1-ca1d-40b8-be4c-f05461f9b4c1",
   "metadata": {},
   "outputs": [],
   "source": [
    "\n",
    "import pandas as pd\n",
    "import numpy as np\n",
    "from sklearn.ensemble import RandomForestClassifier\n",
    "from sklearn.metrics import classification_report, roc_auc_score, precision_recall_curve, auc\n",
    "\n",
    "print(\"\\n--- Step 5: Addressing Class Imbalance & Baseline Model Selection ---\")\n",
    "\n",
    "# 1. Analyze Class Distribution\n",
    "print(\"\\nClass distribution in the Training Set (y_train):\")\n",
    "print(y_train.value_counts())\n",
    "print(\"\\nClass distribution in the Testing Set (y_test):\")\n",
    "print(y_test.value_counts())\n",
    "\n",
    "# Calculate the proportion of the minority class\n",
    "minority_class_proportion_train = y_train.value_counts(normalize=True)[True]\n",
    "print(f\"\\nProportion of Halo CME events (True) in Training Set: {minority_class_proportion_train:.4f}\")\n",
    "\n",
    "if minority_class_proportion_train < 0.10: # Example threshold for considering highly imbalanced\n",
    "    print(\"Warning: The dataset is highly imbalanced. Using `class_weight='balanced'` is crucial.\")\n",
    "else:\n",
    "    print(\"Class imbalance detected. `class_weight='balanced'` will be applied.\")\n",
    "\n",
    "\n",
    "# 2. Baseline Model Selection: Random Forest Classifier\n",
    "print(\"\\nSelecting Random Forest Classifier as the baseline model.\")\n",
    "print(\"Using `class_weight='balanced'` to handle class imbalance.\")\n",
    "\n",
    "# Initialize the Random Forest Classifier\n",
    "# n_estimators: number of trees in the forest\n",
    "# random_state: for reproducibility\n",
    "# class_weight='balanced': automatically adjusts weights based on class frequencies\n",
    "rf_model = RandomForestClassifier(n_estimators=100, random_state=42, class_weight='balanced', n_jobs=-1) # n_jobs=-1 uses all available cores\n",
    "\n",
    "print(\"Random Forest Classifier model initialized.\")\n",
    "\n",
    "# Continue to training in the next step."
   ]
  },
  {
   "cell_type": "markdown",
   "id": "b30e4674-c1c9-4783-88f3-36c2e396e9b3",
   "metadata": {},
   "source": [
    "## Training and Testing"
   ]
  },
  {
   "cell_type": "code",
   "execution_count": 17,
   "id": "9b2169ec-e92b-4530-9956-d0d624f4632e",
   "metadata": {
    "colab": {
     "base_uri": "https://localhost:8080/",
     "height": 982
    },
    "id": "9b2169ec-e92b-4530-9956-d0d624f4632e",
    "outputId": "ead1de6a-81ee-4f23-d3c7-54324c111776"
   },
   "outputs": [
    {
     "name": "stdout",
     "output_type": "stream",
     "text": [
      "\n",
      "--- Step 6: Model Training and Initial Evaluation ---\n",
      "Training Random Forest Classifier (this may take some time due to data size)...\n",
      "Model training complete in 720.12 seconds.\n",
      "\n",
      "Making predictions on the test set...\n",
      "\n",
      "--- Model Evaluation on Test Set ---\n",
      "\n",
      "Classification Report:\n",
      "              precision    recall  f1-score   support\n",
      "\n",
      "      No CME       0.80      0.97      0.88    823348\n",
      "         CME       0.21      0.03      0.06    200476\n",
      "\n",
      "    accuracy                           0.79   1023824\n",
      "   macro avg       0.51      0.50      0.47   1023824\n",
      "weighted avg       0.69      0.79      0.72   1023824\n",
      "\n",
      "\n",
      "ROC AUC Score: 0.4921\n",
      "Precision-Recall AUC: 0.1938\n",
      "\n",
      "Confusion Matrix:\n"
     ]
    },
    {
     "data": {
      "image/png": "[encoded data removed]",
      "text/plain": [
       "<Figure size 640x480 with 2 Axes>"
      ]
     },
     "metadata": {},
     "output_type": "display_data"
    },
    {
     "name": "stdout",
     "output_type": "stream",
     "text": [
      "\n",
      "Predicted True (CME) count: 31374\n",
      "Predicted False (No CME) count: 992450\n",
      "Actual True (CME) count: 200476\n",
      "Actual False (No CME) count: 823348\n",
      "\n",
      "Initial model evaluation complete.\n"
     ]
    }
   ],
   "source": [
    "import pandas as pd\n",
    "import numpy as np\n",
    "from sklearn.ensemble import RandomForestClassifier\n",
    "from sklearn.metrics import (\n",
    "    classification_report,\n",
    "    roc_auc_score,\n",
    "    precision_recall_curve,\n",
    "    auc,\n",
    "    confusion_matrix,\n",
    "    ConfusionMatrixDisplay # For visualizing confusion matrix\n",
    ")\n",
    "import time # To measure training time\n",
    "\n",
    "print(\"\\n--- Step 6: Model Training and Initial Evaluation ---\")\n",
    "\n",
    "# 1. Train the Random Forest Model\n",
    "print(\"Training Random Forest Classifier (this may take some time due to data size)...\")\n",
    "start_time = time.time()\n",
    "\n",
    "rf_model.fit(X_train, y_train)\n",
    "\n",
    "end_time = time.time()\n",
    "training_time = end_time - start_time\n",
    "print(f\"Model training complete in {training_time:.2f} seconds.\")\n",
    "\n",
    "# 2. Make Predictions on the Test Set\n",
    "print(\"\\nMaking predictions on the test set...\")\n",
    "y_pred = rf_model.predict(X_test)\n",
    "y_pred_proba = rf_model.predict_proba(X_test)[:, 1] # Get probabilities for the positive class (True)\n",
    "\n",
    "# 3. Evaluate Performance\n",
    "print(\"\\n--- Model Evaluation on Test Set ---\")\n",
    "\n",
    "# Classification Report\n",
    "print(\"\\nClassification Report:\")\n",
    "print(classification_report(y_test, y_pred, target_names=['No CME', 'CME']))\n",
    "\n",
    "# ROC AUC Score\n",
    "roc_auc = roc_auc_score(y_test, y_pred_proba)\n",
    "print(f\"\\nROC AUC Score: {roc_auc:.4f}\")\n",
    "\n",
    "# Precision-Recall AUC\n",
    "precision, recall, _ = precision_recall_curve(y_test, y_pred_proba)\n",
    "pr_auc = auc(recall, precision)\n",
    "print(f\"Precision-Recall AUC: {pr_auc:.4f}\")\n",
    "\n",
    "# Confusion Matrix\n",
    "cm = confusion_matrix(y_test, y_pred)\n",
    "print(\"\\nConfusion Matrix:\")\n",
    "# Using ConfusionMatrixDisplay for better readability\n",
    "disp = ConfusionMatrixDisplay(confusion_matrix=cm, display_labels=['No CME', 'CME'])\n",
    "disp.plot(cmap='Blues')\n",
    "import matplotlib.pyplot as plt # Import matplotlib to show the plot\n",
    "plt.title('Confusion Matrix for Random Forest')\n",
    "plt.show()\n",
    "\n",
    "# Quick sanity check on prediction counts\n",
    "print(f\"\\nPredicted True (CME) count: {np.sum(y_pred == True)}\")\n",
    "print(f\"Predicted False (No CME) count: {np.sum(y_pred == False)}\")\n",
    "print(f\"Actual True (CME) count: {np.sum(y_test == True)}\")\n",
    "print(f\"Actual False (No CME) count: {np.sum(y_test == False)}\")\n",
    "\n",
    "print(\"\\nInitial model evaluation complete.\")"
   ]
  },
  {
   "cell_type": "code",
   "execution_count": null,
   "id": "cd880faf-e120-41fd-9fe4-0e9e717d6731",
   "metadata": {
    "id": "cd880faf-e120-41fd-9fe4-0e9e717d6731"
   },
   "outputs": [],
   "source": []
  }
 ],
 "metadata": {
  "colab": {
   "machine_shape": "hm",
   "provenance": []
  },
  "kernelspec": {
   "display_name": "Python 3 (ipykernel)",
   "language": "python",
   "name": "python3"
  },
  "language_info": {
   "codemirror_mode": {
    "name": "ipython",
    "version": 3
   },
   "file_extension": ".py",
   "mimetype": "text/x-python",
   "name": "python",
   "nbconvert_exporter": "python",
   "pygments_lexer": "ipython3",
   "version": "3.10.4"
  }
 },
 "nbformat": 4,
 "nbformat_minor": 5
}
